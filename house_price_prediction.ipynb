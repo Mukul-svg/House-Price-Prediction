{
  "nbformat": 4,
  "nbformat_minor": 0,
  "metadata": {
    "colab": {
      "name": "Untitled0.ipynb",
      "provenance": [],
      "collapsed_sections": []
    },
    "kernelspec": {
      "name": "python3",
      "display_name": "Python 3"
    },
    "language_info": {
      "name": "python"
    }
  },
  "cells": [
    {
      "cell_type": "code",
      "execution_count": 43,
      "metadata": {
        "id": "Aarx4n54JDQb"
      },
      "outputs": [],
      "source": [
        "import pandas as pd\n",
        "from sklearn.linear_model import LinearRegression\n",
        "from sklearn.model_selection import train_test_split\n",
        "from sklearn.metrics import mean_absolute_error\n",
        "from sklearn.impute import SimpleImputer"
      ]
    },
    {
      "cell_type": "code",
      "source": [
        "data = pd.read_csv(\"/content/train.csv\",index_col='Id')"
      ],
      "metadata": {
        "id": "Y8XEQE2UM96V"
      },
      "execution_count": null,
      "outputs": []
    },
    {
      "cell_type": "code",
      "source": [
        "print(data.head())"
      ],
      "metadata": {
        "colab": {
          "base_uri": "https://localhost:8080/"
        },
        "id": "YAFWgxoJSdhw",
        "outputId": "dd50a4df-7288-4a6e-9f86-54beb0af241b"
      },
      "execution_count": 38,
      "outputs": [
        {
          "output_type": "stream",
          "name": "stdout",
          "text": [
            "    MSSubClass MSZoning  LotFrontage  LotArea Street Alley LotShape  \\\n",
            "Id                                                                    \n",
            "1           60       RL         65.0     8450   Pave   NaN      Reg   \n",
            "2           20       RL         80.0     9600   Pave   NaN      Reg   \n",
            "3           60       RL         68.0    11250   Pave   NaN      IR1   \n",
            "4           70       RL         60.0     9550   Pave   NaN      IR1   \n",
            "5           60       RL         84.0    14260   Pave   NaN      IR1   \n",
            "\n",
            "   LandContour Utilities LotConfig  ... PoolArea PoolQC Fence MiscFeature  \\\n",
            "Id                                  ...                                     \n",
            "1          Lvl    AllPub    Inside  ...        0    NaN   NaN         NaN   \n",
            "2          Lvl    AllPub       FR2  ...        0    NaN   NaN         NaN   \n",
            "3          Lvl    AllPub    Inside  ...        0    NaN   NaN         NaN   \n",
            "4          Lvl    AllPub    Corner  ...        0    NaN   NaN         NaN   \n",
            "5          Lvl    AllPub       FR2  ...        0    NaN   NaN         NaN   \n",
            "\n",
            "   MiscVal MoSold  YrSold  SaleType  SaleCondition  SalePrice  \n",
            "Id                                                             \n",
            "1        0      2    2008        WD         Normal     208500  \n",
            "2        0      5    2007        WD         Normal     181500  \n",
            "3        0      9    2008        WD         Normal     223500  \n",
            "4        0      2    2006        WD        Abnorml     140000  \n",
            "5        0     12    2008        WD         Normal     250000  \n",
            "\n",
            "[5 rows x 80 columns]\n"
          ]
        }
      ]
    },
    {
      "cell_type": "code",
      "source": [
        "#Splitting X and Y\n",
        "X = data.drop(['SalePrice'], axis=1)\n",
        "y = data.SalePrice"
      ],
      "metadata": {
        "id": "NYO0mS0oSlAu"
      },
      "execution_count": 49,
      "outputs": []
    },
    {
      "cell_type": "code",
      "source": [
        "#Converting text into Numerical Values\n",
        "X = pd.get_dummies(X,drop_first=True)"
      ],
      "metadata": {
        "id": "Bshfob_PTq-d"
      },
      "execution_count": 46,
      "outputs": []
    },
    {
      "cell_type": "code",
      "source": [
        "#Train Test Split\n",
        "train_X, test_X, train_y, test_y = train_test_split(X, y, random_state=0, train_size = .75)"
      ],
      "metadata": {
        "id": "ZFsudsWFaV7b"
      },
      "execution_count": 47,
      "outputs": []
    },
    {
      "cell_type": "code",
      "source": [
        "#Cleaning Data with Imputer\n",
        "imputer = SimpleImputer()\n",
        "train_X = imputer.fit_transform(train_X)\n",
        "test_X = imputer.fit_transform(test_X)"
      ],
      "metadata": {
        "id": "PZJIu3lUa83d"
      },
      "execution_count": 48,
      "outputs": []
    },
    {
      "cell_type": "code",
      "source": [
        "#Fitting and training model\n",
        "model = LinearRegression()\n",
        "model.fit(train_X, train_y )"
      ],
      "metadata": {
        "colab": {
          "base_uri": "https://localhost:8080/"
        },
        "id": "aiZ-lZRabJtI",
        "outputId": "1e88c346-6293-4112-ef53-90db0c863413"
      },
      "execution_count": 50,
      "outputs": [
        {
          "output_type": "execute_result",
          "data": {
            "text/plain": [
              "LinearRegression()"
            ]
          },
          "metadata": {},
          "execution_count": 50
        }
      ]
    },
    {
      "cell_type": "code",
      "source": [
        "#Predicting test data\n",
        "predicted = model.predict(test_X)"
      ],
      "metadata": {
        "id": "vzBU5MsFb3Rz"
      },
      "execution_count": 52,
      "outputs": []
    },
    {
      "cell_type": "code",
      "source": [
        "#Printing MAE\n",
        "print(\"Mean Absolute Error :\", mean_absolute_error(test_y, predicted))"
      ],
      "metadata": {
        "colab": {
          "base_uri": "https://localhost:8080/"
        },
        "id": "-1K75pLzb_f_",
        "outputId": "6edef0a3-13d9-46fb-dc7c-72ea58b0ab04"
      },
      "execution_count": 54,
      "outputs": [
        {
          "output_type": "stream",
          "name": "stdout",
          "text": [
            "Mean Absolute Error : 21259.336010029125\n"
          ]
        }
      ]
    }
  ]
}